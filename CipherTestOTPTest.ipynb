{
  "nbformat": 4,
  "nbformat_minor": 0,
  "metadata": {
    "colab": {
      "provenance": [],
      "mount_file_id": "1aZv8HNnQP2Ax0tcLX35vlcJdHEDrY4yI",
      "authorship_tag": "ABX9TyMykJoLfJ/dElparXXUkvV1",
      "include_colab_link": true
    },
    "kernelspec": {
      "name": "python3",
      "display_name": "Python 3"
    },
    "language_info": {
      "name": "python"
    }
  },
  "cells": [
    {
      "cell_type": "markdown",
      "metadata": {
        "id": "view-in-github",
        "colab_type": "text"
      },
      "source": [
        "<a href=\"https://colab.research.google.com/github/rahmanziaur/PracticeICT6115SecMS/blob/main/CipherTestOTPTest.ipynb\" target=\"_parent\"><img src=\"https://colab.research.google.com/assets/colab-badge.svg\" alt=\"Open In Colab\"/></a>"
      ]
    },
    {
      "cell_type": "markdown",
      "source": [
        "**Caeser Cipher Test**"
      ],
      "metadata": {
        "id": "1ZyEAw8xXTAJ"
      }
    },
    {
      "cell_type": "code",
      "source": [
        "#A python program to illustrate Caesar Cipher Technique\n",
        "def encrypt(text,s):\n",
        "    result = \"\"\n",
        "\n",
        "    # traverse text\n",
        "    for i in range(len(text)):\n",
        "        char = text[i]\n",
        "\n",
        "        # Encrypt uppercase characters\n",
        "        if (char.isupper()):\n",
        "            result += chr((ord(char) + s-65) % 26 + 65)\n",
        "\n",
        "        # Encrypt lowercase characters\n",
        "        else:\n",
        "            result += chr((ord(char) + s - 97) % 26 + 97)\n",
        "\n",
        "    return result\n",
        "\n",
        "#check the above function\n",
        "text = \"ATTACKATONCE\"\n",
        "s = 4\n",
        "print (\"Text  : \" + text)\n",
        "print (\"Shift : \" + str(s))\n",
        "print (\"Cipher: \" + encrypt(text,s))"
      ],
      "metadata": {
        "colab": {
          "base_uri": "https://localhost:8080/"
        },
        "id": "f2VgFGEUXRLc",
        "outputId": "cda08e15-6e47-4011-e3d7-0d6b991ea6db"
      },
      "execution_count": 4,
      "outputs": [
        {
          "output_type": "stream",
          "name": "stdout",
          "text": [
            "Text  : ATTACKATONCE\n",
            "Shift : 4\n",
            "Cipher: EXXEGOEXSRGI\n"
          ]
        }
      ]
    },
    {
      "cell_type": "code",
      "execution_count": 1,
      "metadata": {
        "colab": {
          "base_uri": "https://localhost:8080/"
        },
        "id": "CmsU9L7j-Sy8",
        "outputId": "04ec75fd-5f84-4867-a5b4-548b9acc854d"
      },
      "outputs": [
        {
          "output_type": "stream",
          "name": "stdout",
          "text": [
            "Plain Text : CEASER CIPHER DEMO\n",
            "Shift pattern : 4\n",
            "Cipher: G\n"
          ]
        }
      ],
      "source": [
        "def encrypt(text,s):\n",
        "  result = \"\"\n",
        "   # transverse the plain text\n",
        "  for i in range(len(text)):\n",
        "      char = text[i]\n",
        "      # Encrypt uppercase characters in plain text\n",
        "\n",
        "      if (char.isupper()):\n",
        "         result += chr((ord(char) + s-65) % 26 + 65)\n",
        "      # Encrypt lowercase characters in plain text\n",
        "      else:\n",
        "         result += chr((ord(char) + s - 97) % 26 + 97)\n",
        "      return result\n",
        "\n",
        "#check the above function\n",
        "text = \"CEASER CIPHER DEMO\"\n",
        "s = 4\n",
        "\n",
        "print(\"Plain Text : \" + text)\n",
        "print(\"Shift pattern : \" + str(s))\n",
        "print(\"Cipher: \" + encrypt(text,s))\n"
      ]
    },
    {
      "cell_type": "code",
      "source": [
        "import string\n",
        "import random\n",
        "\n",
        "def generate_key():\n",
        "    \"\"\"\n",
        "    Generates a random substitution key.\n",
        "    \"\"\"\n",
        "    letters = list(string.ascii_uppercase)\n",
        "    shuffled = letters[:]\n",
        "    random.shuffle(shuffled)\n",
        "    return dict(zip(letters, shuffled))\n",
        "\n",
        "def encrypt(plaintext, key):\n",
        "    \"\"\"\n",
        "    Encrypts the plaintext using the substitution key.\n",
        "    \"\"\"\n",
        "    plaintext = plaintext.upper()\n",
        "    ciphertext = ''.join(key.get(char, char) for char in plaintext)\n",
        "    return ciphertext\n",
        "\n",
        "def decrypt(ciphertext, key):\n",
        "    \"\"\"\n",
        "    Decrypts the ciphertext using the substitution key.\n",
        "    \"\"\"\n",
        "    reversed_key = {v: k for k, v in key.items()}\n",
        "    plaintext = ''.join(reversed_key.get(char, char) for char in ciphertext)\n",
        "    return plaintext\n",
        "\n",
        "# Example usage\n",
        "if __name__ == \"__main__\":\n",
        "    plaintext = \"HELLO WORLD\"\n",
        "    key = generate_key()\n",
        "\n",
        "    print(\"Key:\", key)\n",
        "    ciphertext = encrypt(plaintext, key)\n",
        "    print(\"Ciphertext:\", ciphertext)\n",
        "\n",
        "    decrypted_text = decrypt(ciphertext, key)\n",
        "    print(\"Decrypted text:\", decrypted_text)\n"
      ],
      "metadata": {
        "colab": {
          "base_uri": "https://localhost:8080/"
        },
        "id": "LuHwPF8ZDrEK",
        "outputId": "a499207e-50bf-4b55-a432-f4be12b8f83a"
      },
      "execution_count": 2,
      "outputs": [
        {
          "output_type": "stream",
          "name": "stdout",
          "text": [
            "Key: {'A': 'D', 'B': 'O', 'C': 'E', 'D': 'U', 'E': 'K', 'F': 'A', 'G': 'L', 'H': 'V', 'I': 'W', 'J': 'R', 'K': 'S', 'L': 'Q', 'M': 'M', 'N': 'I', 'O': 'N', 'P': 'J', 'Q': 'Y', 'R': 'Z', 'S': 'H', 'T': 'F', 'U': 'X', 'V': 'B', 'W': 'G', 'X': 'T', 'Y': 'C', 'Z': 'P'}\n",
            "Ciphertext: VKQQN GNZQU\n",
            "Decrypted text: HELLO WORLD\n"
          ]
        }
      ]
    },
    {
      "cell_type": "code",
      "source": [
        "import os\n",
        "\n",
        "def generate_key(length):\n",
        "    \"\"\"\n",
        "    Generate a random key of the given length.\n",
        "    \"\"\"\n",
        "    return os.urandom(length)  # Generate truly random bytes\n",
        "\n",
        "def encrypt(plaintext):\n",
        "    \"\"\"\n",
        "    Encrypt the plaintext using a one-time pad key.\n",
        "    \"\"\"\n",
        "    plaintext_bytes = plaintext.encode('utf-8')\n",
        "    key = generate_key(len(plaintext_bytes))\n",
        "    ciphertext = bytes([p ^ k for p, k in zip(plaintext_bytes, key)])\n",
        "    return ciphertext, key\n",
        "\n",
        "def decrypt(ciphertext, key):\n",
        "    \"\"\"\n",
        "    Decrypt the ciphertext using the one-time pad key.\n",
        "    \"\"\"\n",
        "    plaintext_bytes = bytes([c ^ k for c, k in zip(ciphertext, key)])\n",
        "    return plaintext_bytes.decode('utf-8')\n",
        "\n",
        "# Example usage\n",
        "if __name__ == \"__main__\":\n",
        "    plaintext = \"HELLO WORLD\"\n",
        "\n",
        "    # Encrypt\n",
        "    ciphertext, key = encrypt(plaintext)\n",
        "    print(\"Ciphertext (bytes):\", ciphertext)\n",
        "    print(\"Key (bytes):\", key)\n",
        "\n",
        "    # Decrypt\n",
        "    decrypted_text = decrypt(ciphertext, key)\n",
        "    print(\"Decrypted text:\", decrypted_text)\n"
      ],
      "metadata": {
        "colab": {
          "base_uri": "https://localhost:8080/"
        },
        "id": "Ss2N4aEaEpIj",
        "outputId": "487b44c2-11ef-48a4-97cf-c79f71c583c9"
      },
      "execution_count": 3,
      "outputs": [
        {
          "output_type": "stream",
          "name": "stdout",
          "text": [
            "Ciphertext (bytes): b'h\\xe7|\\xa5\\xe1%1\\xf9\\xc2\\xed\\x85'\n",
            "Key (bytes): b' \\xa20\\xe9\\xae\\x05f\\xb6\\x90\\xa1\\xc1'\n",
            "Decrypted text: HELLO WORLD\n"
          ]
        }
      ]
    }
  ]
}