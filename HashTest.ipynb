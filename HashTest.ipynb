{
  "nbformat": 4,
  "nbformat_minor": 0,
  "metadata": {
    "colab": {
      "provenance": [],
      "authorship_tag": "ABX9TyMbrf7egEwlQbN/uSbsjW4c",
      "include_colab_link": true
    },
    "kernelspec": {
      "name": "python3",
      "display_name": "Python 3"
    },
    "language_info": {
      "name": "python"
    }
  },
  "cells": [
    {
      "cell_type": "markdown",
      "metadata": {
        "id": "view-in-github",
        "colab_type": "text"
      },
      "source": [
        "<a href=\"https://colab.research.google.com/github/rahmanziaur/AdCryptoMS/blob/main/HashTest.ipynb\" target=\"_parent\"><img src=\"https://colab.research.google.com/assets/colab-badge.svg\" alt=\"Open In Colab\"/></a>"
      ]
    },
    {
      "cell_type": "code",
      "execution_count": 1,
      "metadata": {
        "colab": {
          "base_uri": "https://localhost:8080/"
        },
        "id": "ggJf0f99YBsn",
        "outputId": "2b4fe141-0919-452c-e630-af828fc09f29"
      },
      "outputs": [
        {
          "output_type": "stream",
          "name": "stdout",
          "text": [
            "The integer hash value is : 4\n",
            "The string hash value is : -6759816887826545956\n",
            "The float hash value is : 1291272085159665688\n"
          ]
        }
      ],
      "source": [
        "# initializing objects\n",
        "int_val = 4\n",
        "str_val = 'GeeksforGeeks'\n",
        "flt_val = 24.56\n",
        "\n",
        "# Printing the hash values.\n",
        "# Notice Integer value doesn't change\n",
        "# You'll have answer later in article.\n",
        "print(\"The integer hash value is : \" + str(hash(int_val)))\n",
        "print(\"The string hash value is : \" + str(hash(str_val)))\n",
        "print(\"The float hash value is : \" + str(hash(flt_val)))"
      ]
    },
    {
      "cell_type": "code",
      "source": [
        "import zlib\n",
        "\n",
        "def hash_string_crc(input_string):\n",
        "    # Calculate the CRC32 hash\n",
        "    crc32_hash = zlib.crc32(input_string.encode('utf-8'))\n",
        "    # Convert to hexadecimal\n",
        "    return hex(crc32_hash & 0xFFFFFFFF)\n",
        "\n",
        "# Example usage\n",
        "string_to_hash = \"Hello, world!Hello, world!Hello, world!Hello, world!Hello, world!\"\n",
        "hex_crc_hash = hash_string_crc(string_to_hash)\n",
        "print(f\"The hexadecimal CRC32 hash of '{string_to_hash}' is: {hex_crc_hash}\")\n"
      ],
      "metadata": {
        "colab": {
          "base_uri": "https://localhost:8080/"
        },
        "id": "9eua86PkYZqa",
        "outputId": "8a9d4320-ed8e-41d8-82ea-1134e8f35b0c"
      },
      "execution_count": 4,
      "outputs": [
        {
          "output_type": "stream",
          "name": "stdout",
          "text": [
            "The hexadecimal CRC32 hash of 'Hello, world!Hello, world!Hello, world!Hello, world!Hello, world!' is: 0x9e85985e\n"
          ]
        }
      ]
    }
  ]
}