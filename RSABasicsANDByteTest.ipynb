{
  "nbformat": 4,
  "nbformat_minor": 0,
  "metadata": {
    "colab": {
      "provenance": [],
      "authorship_tag": "ABX9TyO7bvs3u+Bya5Iw2usnOTpC",
      "include_colab_link": true
    },
    "kernelspec": {
      "name": "python3",
      "display_name": "Python 3"
    },
    "language_info": {
      "name": "python"
    }
  },
  "cells": [
    {
      "cell_type": "markdown",
      "metadata": {
        "id": "view-in-github",
        "colab_type": "text"
      },
      "source": [
        "<a href=\"https://colab.research.google.com/github/rahmanziaur/AdCryptoMS/blob/main/RSABasicsANDByteTest.ipynb\" target=\"_parent\"><img src=\"https://colab.research.google.com/assets/colab-badge.svg\" alt=\"Open In Colab\"/></a>"
      ]
    },
    {
      "cell_type": "code",
      "execution_count": 4,
      "metadata": {
        "colab": {
          "base_uri": "https://localhost:8080/"
        },
        "id": "c3pt9iax-Pkq",
        "outputId": "3be0fa5b-cadb-4e0c-e47a-75fe6471f004"
      },
      "outputs": [
        {
          "output_type": "stream",
          "name": "stdout",
          "text": [
            "String: Python is fun  length: 13  Type: <class 'str'>  Size: 62\n",
            "byte_String: b'Python is fun'  length: 13  Type: <class 'bytes'>  Size: 46\n"
          ]
        }
      ],
      "source": [
        "import sys\n",
        "message = 'Python is fun'\n",
        "\n",
        "print(\"String:\",message,\" length:\",len(message),\" Type:\",type(message),\" Size:\" ,sys.getsizeof(message))\n",
        "\n",
        "# Output: String: Python is fun length: 14 Type: <class 'str'>\n",
        "# convert string to bytes\n",
        "byte_message = bytes(message, 'utf-8')\n",
        "print(\"byte_String:\",byte_message,\" length:\",len(byte_message),\" Type:\",type(byte_message),\" Size:\" ,sys.getsizeof(byte_message))\n",
        "\n",
        "# Output: b'Python is fun'"
      ]
    },
    {
      "cell_type": "code",
      "source": [
        "# prompt: GCD OF two numbers\n",
        "\n",
        "def gcd(a, b):\n",
        "  if b == 0:\n",
        "    return a\n",
        "  return gcd(b, a % b)\n",
        "a = 10\n",
        "b = 15\n",
        "print(\"gcd(\",a,\",\",b,\")=\",gcd(a,b))\n",
        "a = 35\n",
        "b = 10\n",
        "print(\"gcd(\",a,\",\",b,\")=\",gcd(a,b))\n"
      ],
      "metadata": {
        "colab": {
          "base_uri": "https://localhost:8080/"
        },
        "id": "cG-3y7b-JAbS",
        "outputId": "9bc8e813-cec0-4c2c-9f38-5807c03c36d9"
      },
      "execution_count": 5,
      "outputs": [
        {
          "output_type": "stream",
          "name": "stdout",
          "text": [
            "gcd( 10 , 15 )= 5\n",
            "gcd( 35 , 10 )= 5\n"
          ]
        }
      ]
    },
    {
      "cell_type": "code",
      "source": [
        "# prompt: extended eucledean algorithm proof example\n",
        "\n",
        "def extended_gcd(a, b):\n",
        "    \"\"\"\n",
        "    Extended Euclidean Algorithm to find the greatest common divisor (gcd)\n",
        "    of two integers a and b, and coefficients x and y such that ax + by = gcd(a, b).\n",
        "    \"\"\"\n",
        "    if a == 0:\n",
        "        return (b, 0, 1)\n",
        "    else:\n",
        "        g, y, x = extended_gcd(b % a, a)\n",
        "        return (g, x - (b // a) * y, y)\n",
        "\n",
        "# Example usage and proof\n",
        "a = 48\n",
        "b = 18\n",
        "\n",
        "g, x, y = extended_gcd(a, b)\n",
        "\n",
        "print(f\"gcd({a}, {b}) = {g}\")\n",
        "print(f\"Coefficients: x = {x}, y = {y}\")\n",
        "\n",
        "# Proof: Verify that ax + by = gcd(a, b)\n",
        "proof_result = (a * x) + (b * y)\n",
        "print(f\"Verification: {a} * {x} + {b} * {y} = {proof_result}\")\n",
        "\n",
        "assert proof_result == g, \"Verification failed. The Extended Euclidean Algorithm result is incorrect.\"\n",
        "\n",
        "print(\"Verification successful. The Extended Euclidean Algorithm result is correct.\")"
      ],
      "metadata": {
        "id": "-6WLOzdaJUBW"
      },
      "execution_count": null,
      "outputs": []
    },
    {
      "cell_type": "code",
      "source": [
        "# prompt: generating and counting number of coprime of a given number\n",
        "\n",
        "def count_coprimes(n):\n",
        "    \"\"\"\n",
        "    Counts the number of coprimes of a given number n.\n",
        "\n",
        "    Args:\n",
        "        n: The number for which to count coprimes.\n",
        "\n",
        "    Returns:\n",
        "        The number of coprimes of n.\n",
        "    \"\"\"\n",
        "    count = 0\n",
        "    for i in range(1, n + 1):\n",
        "        if gcd(n, i) == 1:  # Check if gcd(n, i) is 1 (coprime condition)\n",
        "            count += 1\n",
        "    return count"
      ],
      "metadata": {
        "id": "Gk6y2MWYMmMz"
      },
      "execution_count": null,
      "outputs": []
    },
    {
      "cell_type": "code",
      "source": [
        "from math import gcd\n",
        "\n",
        "def coprimes_of_n(n):\n",
        "    coprimes = []\n",
        "    for i in range(1, n):\n",
        "        if gcd(n, i) == 1:\n",
        "            coprimes.append(i)\n",
        "    return coprimes, len(coprimes)\n",
        "\n",
        "# Example usage\n",
        "n = 35\n",
        "coprimes, count = coprimes_of_n(n)\n",
        "print(f\"Coprimes of {n}: {coprimes}\")\n",
        "print(f\"Number of coprimes: {count}\")\n"
      ],
      "metadata": {
        "colab": {
          "base_uri": "https://localhost:8080/"
        },
        "id": "_qrytl6yM8_E",
        "outputId": "dcf5db63-9799-40e6-a012-3479a94f3248"
      },
      "execution_count": 6,
      "outputs": [
        {
          "output_type": "stream",
          "name": "stdout",
          "text": [
            "Coprimes of 35: [1, 2, 3, 4, 6, 8, 9, 11, 12, 13, 16, 17, 18, 19, 22, 23, 24, 26, 27, 29, 31, 32, 33, 34]\n",
            "Number of coprimes: 24\n"
          ]
        }
      ]
    },
    {
      "cell_type": "code",
      "source": [
        "def prime_factorization(n):\n",
        "    \"\"\"Returns the prime factorization of n as a dictionary {prime: exponent}.\"\"\"\n",
        "    factors = {} #dictionary\n",
        "    i = 2\n",
        "    # Divide by all numbers up to sqrt(n)\n",
        "    while i * i <= n:\n",
        "        while n % i == 0:\n",
        "            if i in factors:\n",
        "                factors[i] += 1\n",
        "            else:\n",
        "                factors[i] = 1\n",
        "            n //= i\n",
        "        i += 1\n",
        "    # If n is still greater than 1, it's a prime number\n",
        "    if n > 1:\n",
        "        factors[n] = 1\n",
        "    return factors\n",
        "\n",
        "# Example usage\n",
        "n = 987654321987654321  # Large number\n",
        "factors = prime_factorization(n)\n",
        "print(f\"Prime factorization of {n}: {factors}\")\n"
      ],
      "metadata": {
        "colab": {
          "base_uri": "https://localhost:8080/"
        },
        "id": "cCduxGbSO9oj",
        "outputId": "9fc71c1e-179b-490f-e812-83b2e2569668"
      },
      "execution_count": 7,
      "outputs": [
        {
          "output_type": "stream",
          "name": "stdout",
          "text": [
            "Prime factorization of 987654321987654321: {3: 2, 7: 1, 11: 1, 13: 1, 17: 2, 19: 1, 52579: 1, 379721: 1}\n"
          ]
        }
      ]
    }
  ]
}