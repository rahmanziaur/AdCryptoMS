{
  "nbformat": 4,
  "nbformat_minor": 0,
  "metadata": {
    "colab": {
      "provenance": [],
      "authorship_tag": "ABX9TyMOrQXiWxBCUR0fzykSyQa2",
      "include_colab_link": true
    },
    "kernelspec": {
      "name": "python3",
      "display_name": "Python 3"
    },
    "language_info": {
      "name": "python"
    }
  },
  "cells": [
    {
      "cell_type": "markdown",
      "metadata": {
        "id": "view-in-github",
        "colab_type": "text"
      },
      "source": [
        "<a href=\"https://colab.research.google.com/github/rahmanziaur/AdCryptoMS/blob/main/aestest.ipynb\" target=\"_parent\"><img src=\"https://colab.research.google.com/assets/colab-badge.svg\" alt=\"Open In Colab\"/></a>"
      ]
    },
    {
      "cell_type": "code",
      "source": [
        "!pip install pyaes"
      ],
      "metadata": {
        "colab": {
          "base_uri": "https://localhost:8080/"
        },
        "id": "9BCpKe_ZFopO",
        "outputId": "274c626e-c929-4fcb-dd9c-6bf04877789f"
      },
      "execution_count": null,
      "outputs": [
        {
          "output_type": "stream",
          "name": "stdout",
          "text": [
            "Collecting pyaes\n",
            "  Downloading pyaes-1.6.1.tar.gz (28 kB)\n",
            "  Preparing metadata (setup.py) ... \u001b[?25l\u001b[?25hdone\n",
            "Building wheels for collected packages: pyaes\n",
            "  Building wheel for pyaes (setup.py) ... \u001b[?25l\u001b[?25hdone\n",
            "  Created wheel for pyaes: filename=pyaes-1.6.1-py3-none-any.whl size=26346 sha256=aae7f0c5ff568a6515883663c0910e18d14eca68a7dfe070477fd089baf40c3c\n",
            "  Stored in directory: /root/.cache/pip/wheels/d6/84/5f/ea6aef85a93c7e1922486369874f4740a5642d261e09c59140\n",
            "Successfully built pyaes\n",
            "Installing collected packages: pyaes\n",
            "Successfully installed pyaes-1.6.1\n"
          ]
        }
      ]
    },
    {
      "cell_type": "markdown",
      "source": [
        "To see the pyaes module: https://github.com/ricmoo/pyaes/blob/master/pyaes/aes.py"
      ],
      "metadata": {
        "id": "D4d2-WMSDsX5"
      }
    },
    {
      "cell_type": "code",
      "source": [
        "!pip install pbkdf2"
      ],
      "metadata": {
        "colab": {
          "base_uri": "https://localhost:8080/"
        },
        "id": "KsRba_KsFvht",
        "outputId": "343ee368-2212-40a0-a0f1-55c3450be94b"
      },
      "execution_count": null,
      "outputs": [
        {
          "output_type": "stream",
          "name": "stdout",
          "text": [
            "Collecting pbkdf2\n",
            "  Downloading pbkdf2-1.3.tar.gz (6.4 kB)\n",
            "  Preparing metadata (setup.py) ... \u001b[?25l\u001b[?25hdone\n",
            "Building wheels for collected packages: pbkdf2\n",
            "  Building wheel for pbkdf2 (setup.py) ... \u001b[?25l\u001b[?25hdone\n",
            "  Created wheel for pbkdf2: filename=pbkdf2-1.3-py3-none-any.whl size=5082 sha256=3ae8dbacc4c5d730a7bceb441a2d795256c57ad04275f95de8547c1f710e8fc2\n",
            "  Stored in directory: /root/.cache/pip/wheels/f6/7d/8b/4269ff90fda80497ec59f6ff7d1e1596cb697c1dc8e9bbe320\n",
            "Successfully built pbkdf2\n",
            "Installing collected packages: pbkdf2\n",
            "Successfully installed pbkdf2-1.3\n"
          ]
        }
      ]
    },
    {
      "cell_type": "markdown",
      "source": [
        "**Key Generation (KG)**"
      ],
      "metadata": {
        "id": "FwDsR0l_HB6s"
      }
    },
    {
      "cell_type": "code",
      "execution_count": null,
      "metadata": {
        "id": "TX_elY_DALTs",
        "colab": {
          "base_uri": "https://localhost:8080/"
        },
        "outputId": "823e990d-f6f6-48be-e1b8-bd9547c34814"
      },
      "outputs": [
        {
          "output_type": "stream",
          "name": "stdout",
          "text": [
            "AES encryption key: b'ca6c16de27501507de2dcfbd0870e9b573716c7901749c4974ea21f8fa1c4e09'\n"
          ]
        }
      ],
      "source": [
        "import pyaes, pbkdf2, binascii, os, secrets\n",
        "\n",
        "# Derive a 256-bit AES encryption key from the password\n",
        "password = \"s3cr3t*c0d3\"\n",
        "passwordSalt = os.urandom(16)\n",
        "key = pbkdf2.PBKDF2(password, passwordSalt).read(32)\n",
        "print('AES encryption key:', binascii.hexlify(key))"
      ]
    },
    {
      "cell_type": "markdown",
      "source": [
        "**Encryption:**"
      ],
      "metadata": {
        "id": "AFnyR288HGhM"
      }
    },
    {
      "cell_type": "code",
      "source": [
        "# Encrypt the plaintext with the given key:\n",
        "#   ciphertext = AES-256-CTR-Encrypt(plaintext, key, iv)\n",
        "iv = secrets.randbits(256)\n",
        "plaintext = \"This is a Hello Message from MS 1st Sem Student\"\n",
        "aes = pyaes.AESModeOfOperationCTR(key, pyaes.Counter(iv))\n",
        "ciphertext = aes.encrypt(plaintext)\n",
        "print('Encrypted:', binascii.hexlify(ciphertext))"
      ],
      "metadata": {
        "colab": {
          "base_uri": "https://localhost:8080/"
        },
        "id": "ODNyt6sbG9Sd",
        "outputId": "aaa60e5d-4063-4ea5-b2e4-1abc790334bd"
      },
      "execution_count": null,
      "outputs": [
        {
          "output_type": "stream",
          "name": "stdout",
          "text": [
            "Encrypted: b'0fc53b02b7f63dd24015fc0e153e6951e269a026061ef59a3b992e036492e16ba2bb82087831214ecfefa221d849a5'\n"
          ]
        }
      ]
    },
    {
      "cell_type": "markdown",
      "source": [
        "**Decryption:**"
      ],
      "metadata": {
        "id": "GCSi6faiILxk"
      }
    },
    {
      "cell_type": "code",
      "source": [
        "# Decrypt the ciphertext with the given key:\n",
        "#   plaintext = AES-256-CTR-Decrypt(ciphertext, key, iv)\n",
        "aes = pyaes.AESModeOfOperationCTR(key, pyaes.Counter(iv))\n",
        "decrypted = aes.decrypt(ciphertext)\n",
        "print('Decrypted:', decrypted)"
      ],
      "metadata": {
        "colab": {
          "base_uri": "https://localhost:8080/"
        },
        "id": "e0CjErA_IUaL",
        "outputId": "81fe7a0d-d77a-41ab-9fe9-7ab58b81e005"
      },
      "execution_count": null,
      "outputs": [
        {
          "output_type": "stream",
          "name": "stdout",
          "text": [
            "Decrypted: b'This is a Hello Message from MS 1st Sem Student'\n"
          ]
        }
      ]
    }
  ]
}