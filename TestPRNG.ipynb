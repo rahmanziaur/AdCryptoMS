{
  "nbformat": 4,
  "nbformat_minor": 0,
  "metadata": {
    "colab": {
      "provenance": [],
      "authorship_tag": "ABX9TyNpcSjhcp74m+36h44UsRGe",
      "include_colab_link": true
    },
    "kernelspec": {
      "name": "python3",
      "display_name": "Python 3"
    },
    "language_info": {
      "name": "python"
    }
  },
  "cells": [
    {
      "cell_type": "markdown",
      "metadata": {
        "id": "view-in-github",
        "colab_type": "text"
      },
      "source": [
        "<a href=\"https://colab.research.google.com/github/rahmanziaur/PracticeICT6115SecMS/blob/main/TestPRNG.ipynb\" target=\"_parent\"><img src=\"https://colab.research.google.com/assets/colab-badge.svg\" alt=\"Open In Colab\"/></a>"
      ]
    },
    {
      "cell_type": "markdown",
      "source": [
        "**Testing Random number generation/ Code Ref: Geeksfor geeks**"
      ],
      "metadata": {
        "id": "AQVq5Pj6_YBh"
      }
    },
    {
      "cell_type": "markdown",
      "source": [],
      "metadata": {
        "id": "4vb-G5N0_YDz"
      }
    },
    {
      "cell_type": "code",
      "execution_count": 9,
      "metadata": {
        "colab": {
          "base_uri": "https://localhost:8080/"
        },
        "id": "_Nd3zoYm_T6E",
        "outputId": "22293dad-c6cd-409f-945e-2aaa0d4b4b28"
      },
      "outputs": [
        {
          "output_type": "stream",
          "name": "stdout",
          "text": [
            "6\t0\t3\t10\t6\t"
          ]
        }
      ],
      "source": [
        "# Python3 code to implement the\n",
        "\n",
        "# approach\n",
        "\n",
        "import random\n",
        "\n",
        "from datetime import datetime\n",
        "\n",
        "# Passing the current time as the seed value\n",
        "\n",
        "#random.seed(datetime.now())\n",
        "\n",
        "for i in range(5):\n",
        "\n",
        " print(random.randint(0, 10), end=\"\\t\")\n",
        "\n",
        "# This code is contributed by phasing17\n"
      ]
    },
    {
      "cell_type": "code",
      "source": [],
      "metadata": {
        "id": "O8yJaz87_pmB"
      },
      "execution_count": null,
      "outputs": []
    },
    {
      "cell_type": "code",
      "source": [
        "#range(5)\n",
        "#print(range(5))\n",
        "for i in range(5):\n",
        "  print(i)"
      ],
      "metadata": {
        "colab": {
          "base_uri": "https://localhost:8080/"
        },
        "id": "0MipxW4b_pnR",
        "outputId": "51e7982f-b933-486c-a96b-5d8e8c1d38cd"
      },
      "execution_count": 3,
      "outputs": [
        {
          "output_type": "stream",
          "name": "stdout",
          "text": [
            "0\n",
            "1\n",
            "2\n",
            "3\n",
            "4\n"
          ]
        }
      ]
    },
    {
      "cell_type": "code",
      "source": [
        "from datetime import datetime as dt\n",
        "import os\n",
        "\n",
        "print(dt.now()+os.getpid()%20)"
      ],
      "metadata": {
        "colab": {
          "base_uri": "https://localhost:8080/"
        },
        "id": "CTUm00Jj_q3a",
        "outputId": "96206d53-a29d-42c9-992c-c4f5a8d99c39"
      },
      "execution_count": 7,
      "outputs": [
        {
          "output_type": "stream",
          "name": "stdout",
          "text": [
            "2024-11-05 06:29:37.828245\n"
          ]
        }
      ]
    },
    {
      "cell_type": "code",
      "source": [],
      "metadata": {
        "id": "0h0nO4gMBNo4"
      },
      "execution_count": null,
      "outputs": []
    },
    {
      "cell_type": "code",
      "source": [
        "import os\n",
        "\n",
        "print(os.getpid())"
      ],
      "metadata": {
        "colab": {
          "base_uri": "https://localhost:8080/"
        },
        "id": "8bDJiwqLBNqC",
        "outputId": "8431e82d-ee5c-46b8-8fdd-a55447e6b314"
      },
      "execution_count": 14,
      "outputs": [
        {
          "output_type": "stream",
          "name": "stdout",
          "text": [
            "329\n"
          ]
        }
      ]
    },
    {
      "cell_type": "code",
      "source": [],
      "metadata": {
        "id": "RZikkAXeBmhb"
      },
      "execution_count": null,
      "outputs": []
    },
    {
      "cell_type": "code",
      "source": [
        "import os\n",
        "a  = os.getpid()\n",
        "b = 20\n",
        "c = a % b\n",
        "print(c)"
      ],
      "metadata": {
        "colab": {
          "base_uri": "https://localhost:8080/"
        },
        "id": "wyiXmE0kBmid",
        "outputId": "6f455fe8-e1ff-4890-ce0d-147dfe311973"
      },
      "execution_count": 16,
      "outputs": [
        {
          "output_type": "stream",
          "name": "stdout",
          "text": [
            "9\n"
          ]
        }
      ]
    },
    {
      "cell_type": "code",
      "source": [
        "# Python3 code to implement the\n",
        "# approach\n",
        "import random\n",
        "from datetime import datetime\n",
        "import time\n",
        "import os\n",
        "\n",
        "# Passing the current time as the seed value\n",
        "random.seed((time.time_ns() + os.getpid())%10)\n",
        "\n",
        "for i in range(30):\n",
        "    print(random.randint(0, 1000), end=\"\\t\")"
      ],
      "metadata": {
        "colab": {
          "base_uri": "https://localhost:8080/"
        },
        "id": "YfuLTq-GB4CK",
        "outputId": "87d7dddf-6f70-478b-e0bf-3110f69a64fb"
      },
      "execution_count": 20,
      "outputs": [
        {
          "output_type": "stream",
          "name": "stdout",
          "text": [
            "474\t627\t382\t273\t141\t190\t887\t692\t6\t346\t514\t474\t919\t619\t82\t342\t567\t958\t631\t716\t41\t745\t388\t173\t720\t968\t462\t974\t742\t432\t"
          ]
        }
      ]
    }
  ]
}